{
 "cells": [
  {
   "cell_type": "code",
   "execution_count": 25,
   "id": "3bad0893",
   "metadata": {
    "ExecuteTime": {
     "end_time": "2023-07-20T17:39:35.150838Z",
     "start_time": "2023-07-20T17:39:29.667189Z"
    }
   },
   "outputs": [],
   "source": [
    "import pandas as pd\n",
    "import numpy as np\n",
    "import folium\n",
    "import streamlit as st"
   ]
  },
  {
   "cell_type": "markdown",
   "id": "6b7061d0",
   "metadata": {},
   "source": [
    "## DataFrames"
   ]
  },
  {
   "cell_type": "code",
   "execution_count": 21,
   "id": "633d281d",
   "metadata": {
    "ExecuteTime": {
     "end_time": "2023-07-20T17:37:40.613906Z",
     "start_time": "2023-07-20T17:37:40.586902Z"
    }
   },
   "outputs": [],
   "source": [
    "#Cidades, Latitude e Longitude\n",
    "\n",
    "coordenadas_vale = [[-5.517017, -38.268787], [-6.032490, -38.347886], [-5.811328, -38.304214],\n",
    "                    [-5.609542, -38.762743], [-4.831508, -37.781000], [-5.894643, -38.624820],\n",
    "                    [-5.145575, -38.096861], [-5.101460, -38.370047], [-5.454494, -38.467930], [-4.746674, -37.964020], \n",
    "                    [-6.047814, -38.462518], [-5.722839, -38.153925], [-5.073436, -37.988587], [-4.937737, -37.976338], \n",
    "                    [-5.270538, -38.272238], [-5.244573, -38.128230]]\n",
    "\n",
    "\n",
    "cidades_vale = ['Alto Santo','Ererê', 'Iracema', 'Jaguaretama', 'Jaguaruana',\n",
    "                'Jaguaribe', 'Limoeiro do Norte', 'Morada Nova','Jaguaribara', 'Palhano', \n",
    "                'Pereiro', 'Potiretama', 'Quixeré', 'Russas', 'São João do Jaguaribe', 'Tabuleiro do Norte']\n",
    "\n",
    "# Criando o dicionário com as colunas\n",
    "dados = {\n",
    "    'Cidade': cidades_vale,\n",
    "    'Latitude': [coord[0] for coord in coordenadas_vale],\n",
    "    'Longitude': [coord[1] for coord in coordenadas_vale],\n",
    "}\n",
    "\n",
    "# Criando o DataFrame\n",
    "df = pd.DataFrame(dados)"
   ]
  },
  {
   "cell_type": "markdown",
   "id": "2caaf68e",
   "metadata": {},
   "source": [
    "## Criação do Mapa"
   ]
  },
  {
   "cell_type": "code",
   "execution_count": 31,
   "id": "63685838",
   "metadata": {
    "ExecuteTime": {
     "end_time": "2023-07-20T17:44:11.502969Z",
     "start_time": "2023-07-20T17:44:11.476008Z"
    }
   },
   "outputs": [],
   "source": [
    "def load_map_html():\n",
    "    m = folium.Map(location=[-5.690900, -38.575244], zoom_start= 8, min_zoom=7)\n",
    "\n",
    "    #Percorremos o dataframe e colocamos um marcador em cada cidade do Vale\n",
    "    for _, row in df.iterrows():\n",
    "        popup_content = f\"<b>Cidade: </b>{row['Cidade']}/CE <br>\"\n",
    "        marker = folium.Marker(location=[row['Latitude'], row['Longitude']],\n",
    "                               popup=popup_content,\n",
    "                               icon=folium.Icon(color='red', icon='info-sign'))\n",
    "        marker.add_to(m)\n",
    "    return m"
   ]
  },
  {
   "cell_type": "code",
   "execution_count": null,
   "id": "cb66d155",
   "metadata": {},
   "outputs": [],
   "source": []
  }
 ],
 "metadata": {
  "hide_input": false,
  "kernelspec": {
   "display_name": "Python 3 (ipykernel)",
   "language": "python",
   "name": "python3"
  },
  "language_info": {
   "codemirror_mode": {
    "name": "ipython",
    "version": 3
   },
   "file_extension": ".py",
   "mimetype": "text/x-python",
   "name": "python",
   "nbconvert_exporter": "python",
   "pygments_lexer": "ipython3",
   "version": "3.9.13"
  },
  "varInspector": {
   "cols": {
    "lenName": 16,
    "lenType": 16,
    "lenVar": 40
   },
   "kernels_config": {
    "python": {
     "delete_cmd_postfix": "",
     "delete_cmd_prefix": "del ",
     "library": "var_list.py",
     "varRefreshCmd": "print(var_dic_list())"
    },
    "r": {
     "delete_cmd_postfix": ") ",
     "delete_cmd_prefix": "rm(",
     "library": "var_list.r",
     "varRefreshCmd": "cat(var_dic_list()) "
    }
   },
   "types_to_exclude": [
    "module",
    "function",
    "builtin_function_or_method",
    "instance",
    "_Feature"
   ],
   "window_display": false
  }
 },
 "nbformat": 4,
 "nbformat_minor": 5
}
